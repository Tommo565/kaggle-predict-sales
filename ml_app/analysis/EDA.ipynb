{
 "cells": [
  {
   "cell_type": "code",
   "execution_count": null,
   "metadata": {},
   "outputs": [],
   "source": [
    "from dask.distributed import Client, progress\n",
    "client = Client(n_workers=3, threads_per_worker=4)"
   ]
  },
  {
   "cell_type": "code",
   "execution_count": null,
   "metadata": {},
   "outputs": [],
   "source": [
    "import pandas as pd\n",
    "from dask import delayed, compute, visualize\n",
    "import dask.bag as db\n",
    "import dask.dataframe as dd"
   ]
  },
  {
   "cell_type": "code",
   "execution_count": null,
   "metadata": {},
   "outputs": [],
   "source": [
    "datasets = [\n",
    "    dict(\n",
    "        name='df_sl',\n",
    "        path='../data/input_data/sales_train.csv'\n",
    "    ),\n",
    "    dict(\n",
    "        name='df_it',\n",
    "        path='../data/input_data/items.csv'\n",
    "    ),\n",
    "    dict(\n",
    "        name='df_ic',\n",
    "        path='../data/input_data/item_categories.csv'\n",
    "    )\n",
    "]"
   ]
  },
  {
   "cell_type": "code",
   "execution_count": null,
   "metadata": {},
   "outputs": [],
   "source": [
    "@delayed\n",
    "def import_data(dataset):\n",
    "    \"\"\"\n",
    "    Imports a csv file as a dask dataframe.\n",
    "    \"\"\"\n",
    "    # Unpack\n",
    "    name = dataset['name']\n",
    "    path = dataset['path']\n",
    "    \n",
    "    # Execute\n",
    "    df_out = {}\n",
    "    df_out[name] = dd.read_csv(path)\n",
    "        \n",
    "    return df_out\n",
    "\n",
    "@delayed\n",
    "def merge_data(df_list):\n",
    "    \"\"\"\n",
    "    Merges the three datasets in the dd_out object together.\n",
    "    Delayed.\n",
    "    \"\"\"\n",
    "    \n",
    "    df_sl = df_list[0]['df_sl']\n",
    "    df_it = df_list[1]['df_it']\n",
    "    df_ic = df_list[2]['df_ic']\n",
    "    \n",
    "    \n",
    "    df = df_it.merge(\n",
    "        right=df_ic,\n",
    "        left_on='item_category_id',\n",
    "        right_on='item_category_id',\n",
    "        how='left'\n",
    "    )\n",
    "\n",
    "    df = df_sl.merge(\n",
    "            right=df,\n",
    "            left_on='item_id',\n",
    "            right_on='item_id',\n",
    "            how='left'\n",
    "        )\n",
    "    df['date'] = dd.to_datetime(df['date'])\n",
    "    \n",
    "    return df"
   ]
  },
  {
   "cell_type": "code",
   "execution_count": null,
   "metadata": {},
   "outputs": [],
   "source": [
    "df_list = list(map(import_data, datasets))\n",
    "df_out = merge_data(df_list)\n",
    "visualize(df_out)"
   ]
  },
  {
   "cell_type": "code",
   "execution_count": null,
   "metadata": {},
   "outputs": [],
   "source": [
    "%%time\n",
    "df = compute(df_out)[0].compute()"
   ]
  },
  {
   "cell_type": "code",
   "execution_count": null,
   "metadata": {},
   "outputs": [],
   "source": []
  },
  {
   "cell_type": "markdown",
   "metadata": {},
   "source": [
    "## Data Descriptions"
   ]
  },
  {
   "cell_type": "markdown",
   "metadata": {},
   "source": [
    "* ID - an Id that represents a (Shop, Item) tuple within the test set\n",
    "* shop_id - unique identifier of a shop\n",
    "* item_id - unique identifier of a product\n",
    "* item_category_id - unique identifier of item category\n",
    "* item_cnt_day - number of products sold. You are predicting a monthly amount of this measure\n",
    "* item_price - current price of an item\n",
    "* date - date in format dd/mm/yyyy\n",
    "* date_block_num - a consecutive month number, used for convenience. January 2013 is 0, February 2013 is 1,..., October 2015 is 33\n",
    "* item_name - name of item\n",
    "* shop_name - name of shop\n",
    "* item_category_name - name of item category"
   ]
  },
  {
   "cell_type": "markdown",
   "metadata": {},
   "source": [
    "#### Datasets"
   ]
  },
  {
   "cell_type": "code",
   "execution_count": null,
   "metadata": {},
   "outputs": [],
   "source": [
    "df_sl.head()"
   ]
  },
  {
   "cell_type": "code",
   "execution_count": null,
   "metadata": {},
   "outputs": [],
   "source": [
    "df_it.head()"
   ]
  },
  {
   "cell_type": "code",
   "execution_count": null,
   "metadata": {},
   "outputs": [],
   "source": [
    "df_ic.head()"
   ]
  },
  {
   "cell_type": "markdown",
   "metadata": {},
   "source": [
    "#### Merge the Data"
   ]
  },
  {
   "cell_type": "code",
   "execution_count": null,
   "metadata": {},
   "outputs": [],
   "source": [
    "df = pd.merge(\n",
    "    left=df_it,\n",
    "    right=df_ic,\n",
    "    left_on='item_category_id',\n",
    "    right_on='item_category_id',\n",
    "    how='left'\n",
    ")\n",
    "\n",
    "df = pd.merge(\n",
    "    left=df_sl,\n",
    "    right=df,\n",
    "    left_on='item_id',\n",
    "    right_on='item_id',\n",
    "    how='left'\n",
    ")\n",
    "df['date'] = pd.to_datetime(df['date'])"
   ]
  },
  {
   "cell_type": "code",
   "execution_count": null,
   "metadata": {},
   "outputs": [],
   "source": []
  },
  {
   "cell_type": "code",
   "execution_count": null,
   "metadata": {},
   "outputs": [],
   "source": []
  },
  {
   "cell_type": "code",
   "execution_count": null,
   "metadata": {},
   "outputs": [],
   "source": [
    "df = (\n",
    "    df.sort_values(by=['item_id', 'item_category_id', 'date'])\n",
    "    .set_index('date')\n",
    ")"
   ]
  },
  {
   "cell_type": "code",
   "execution_count": null,
   "metadata": {},
   "outputs": [],
   "source": [
    "df.head()"
   ]
  },
  {
   "cell_type": "code",
   "execution_count": null,
   "metadata": {},
   "outputs": [],
   "source": []
  }
 ],
 "metadata": {
  "kernelspec": {
   "display_name": "kaggle-predict-sales",
   "language": "python",
   "name": "kaggle-predict-sales"
  },
  "language_info": {
   "codemirror_mode": {
    "name": "ipython",
    "version": 3
   },
   "file_extension": ".py",
   "mimetype": "text/x-python",
   "name": "python",
   "nbconvert_exporter": "python",
   "pygments_lexer": "ipython3",
   "version": "3.7.3"
  }
 },
 "nbformat": 4,
 "nbformat_minor": 4
}
