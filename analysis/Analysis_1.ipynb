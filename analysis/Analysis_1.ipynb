{
 "cells": [
  {
   "cell_type": "code",
   "execution_count": null,
   "metadata": {},
   "outputs": [],
   "source": [
    "import pandas as pd"
   ]
  },
  {
   "cell_type": "code",
   "execution_count": null,
   "metadata": {},
   "outputs": [],
   "source": [
    "df = pd.read_csv('../data/output_data/merged_data.csv')"
   ]
  },
  {
   "cell_type": "code",
   "execution_count": null,
   "metadata": {},
   "outputs": [],
   "source": [
    "%%time\n",
    "\n",
    "# Feature Engineering params\n",
    "categorical_columns = ['item_id', 'item_category_id']\n",
    "\n",
    "# Remove shop_id and sum \n",
    "df_rs = (\n",
    "    df_merged[['date', 'item_id', 'item_category_id', 'item_cnt_day']]\n",
    "    .groupby(['item_id', 'item_category_id', 'date'])\n",
    "    .sum()\n",
    "    .fillna(0)\n",
    "    .reset_index()\n",
    ")\n",
    "\n",
    "# Convert required columns to categorical\n",
    "for col in categorical_columns:\n",
    "    df_rs[col] = df_rs[col].astype('str').astype('category')\n",
    "\n",
    "# Unique monthly dates\n",
    "dates = pd.date_range(\n",
    "    start=df_rs['date'].min(), \n",
    "    end=df_rs['date'].max(),\n",
    "    freq='M'\n",
    ")\n",
    "\n",
    "# Infilling missing dates function\n",
    "def reindex_by_date(df):\n",
    "    return df.reindex(dates).fillna(0)\n",
    "\n",
    "# Resample to Monthly\n",
    "\n",
    "df_rs = (\n",
    "    df_rs.set_index('date')\n",
    "    .groupby(['item_id', 'item_category_id'])\n",
    "    .resample('M')\n",
    "    .sum()\n",
    "    .reset_index()\n",
    "    .set_index('date')\n",
    "    .groupby(['item_id', 'item_category_id'])\n",
    "    .apply(reindex_by_date)\n",
    "    .reset_index()\n",
    "    .rename({\n",
    "        'item_cnt_day': 'item_cnt_month',\n",
    "        'level_2': 'date'\n",
    "    }, axis=1)\n",
    ")"
   ]
  },
  {
   "cell_type": "code",
   "execution_count": null,
   "metadata": {},
   "outputs": [],
   "source": []
  }
 ],
 "metadata": {
  "kernelspec": {
   "display_name": "Python 3",
   "language": "python",
   "name": "python3"
  },
  "language_info": {
   "codemirror_mode": {
    "name": "ipython",
    "version": 3
   },
   "file_extension": ".py",
   "mimetype": "text/x-python",
   "name": "python",
   "nbconvert_exporter": "python",
   "pygments_lexer": "ipython3",
   "version": "3.7.3"
  }
 },
 "nbformat": 4,
 "nbformat_minor": 2
}
